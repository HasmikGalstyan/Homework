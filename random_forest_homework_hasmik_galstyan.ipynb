{
 "cells": [
  {
   "cell_type": "code",
   "execution_count": 52,
   "metadata": {},
   "outputs": [],
   "source": [
    "from sklearn.model_selection import train_test_split\n",
    "from sklearn.datasets import load_iris\n",
    "import numpy as np"
   ]
  },
  {
   "cell_type": "code",
   "execution_count": 53,
   "metadata": {},
   "outputs": [],
   "source": [
    "iris = load_iris()"
   ]
  },
  {
   "cell_type": "code",
   "execution_count": 54,
   "metadata": {},
   "outputs": [],
   "source": [
    "target = iris.target\n",
    "data = iris.data"
   ]
  },
  {
   "cell_type": "code",
   "execution_count": 55,
   "metadata": {},
   "outputs": [],
   "source": [
    "class DecisionNode:\n",
    "    def __init__(self, data, y, f_index, f_value, right_node, left_node, is_leaf=False):\n",
    "        self.data = data\n",
    "        self.y = y\n",
    "        self.right_node = right_node\n",
    "        self.left_node = left_node\n",
    "        self.f_index = f_index\n",
    "        self.f_value = f_value\n",
    "        self.is_leaf = is_leaf"
   ]
  },
  {
   "cell_type": "code",
   "execution_count": 56,
   "metadata": {},
   "outputs": [],
   "source": [
    "class DecisionTree:\n",
    "    def __init__(self, max_depth=5, loss=\"entropy\"):\n",
    "        self.depth = 0\n",
    "        self.max_depth = max_depth\n",
    "        if loss == \"entropy\":\n",
    "            self.loss = self.entropy\n",
    "        else:\n",
    "            self.loss = self.gini\n",
    "    \n",
    "    @staticmethod\n",
    "    def entropy(y):\n",
    "        prob = np.unique(y, return_counts = True)[1] / len(y)\n",
    "        return -sum(np.log(prob) * prob)\n",
    "    \n",
    "    @staticmethod\n",
    "    def gini(y):\n",
    "        prob = np.unique(y, return_counts=True)[1] / len(y)\n",
    "        return sum(prob * (1 - prob))\n",
    "    \n",
    "    def train(self, data, y):\n",
    "        self.tree = self.iterate(data, y)\n",
    "        \n",
    "    def iterate(self, data, y):\n",
    "        h = self.loss(y)\n",
    "        best_f, best_value = None, None\n",
    "        for f in range(len(data[0])):\n",
    "            for f_value in data[:,f]:\n",
    "                h1 = self.loss(y[data[:,f] > f_value])\n",
    "                h2 = self.loss(y[data[:,f] <= f_value])\n",
    "                if h1 + h2 < h:\n",
    "                    h = h1 + h2\n",
    "                    best_value = f_value\n",
    "                    best_f = f\n",
    "                    \n",
    "            best_value\n",
    "        best_f\n",
    "        self.depth += 1\n",
    "        if best_f is None or self.depth == self.max_depth:\n",
    "            return DecisionNode(data, y, None, None, None, None , is_leaf = True)\n",
    "        data1 = data[data[:,best_f] > best_value ]\n",
    "        y1 = y[data[:,best_f] > best_value ]\n",
    "        data2 = data[data[:,best_f] <= best_value ]\n",
    "        y2 = y[data[:,best_f] <= best_value ]\n",
    "        return DecisionNode(data, y, best_f, best_value, right_node = self.iterate(data1, y1),\n",
    "                           left_node = self.iterate(data2, y2), is_leaf = False)\n",
    "    \n",
    "    def predict_datum(self, test_datum):\n",
    "        node = self.tree\n",
    "\n",
    "        while True:\n",
    "            if node.is_leaf:\n",
    "                return np.unique(node.y)[np.unique(node.y, return_counts = True)[1].argmax()]\n",
    "                \n",
    "            if test_datum[node.f_index] > node.f_value:\n",
    "                node = node.right_node\n",
    "            else:\n",
    "                node = node.left_node\n",
    "                \n",
    "    def predict(self, test_data):\n",
    "        if test_data.size == test_data.shape[0]:\n",
    "            return self.predict_datum(test_data)\n",
    "        return np.array([self.predict_datum(datum) for datum in test_data])\n",
    "    \n"
   ]
  },
  {
   "cell_type": "code",
   "execution_count": 57,
   "metadata": {},
   "outputs": [],
   "source": [
    "class RandomForest:\n",
    "    def __init__(self, n, max_depth=5, loss='entropy'):\n",
    "        self.n = n\n",
    "        self.loss = loss\n",
    "        self.max_depth = max_depth\n",
    "        \n",
    "    def train(self, data, y):\n",
    "        self.forest = []\n",
    "        for i in range(self.n):\n",
    "            index = np.random. randint(0,len(data), len(data))\n",
    "            data_train = data[index]\n",
    "            y_train = y[index]\n",
    "            self.forest.append(DecisionTree(max_depth=self.max_depth,loss=self.loss))\n",
    "            self.forest[i].train(data_train,y_train)\n",
    "            \n",
    "    def predict_datum(self, test_datum):\n",
    "        self.predict_tree = []\n",
    "        for i in range(self.n):\n",
    "            self.predict_tree.append(self.forest[i].predict(test_datum))\n",
    "        return np.unique(np.array(self.predict_tree))[np.unique(np.array(self.predict_tree), \n",
    "                                                      return_counts=True)[1].argmax()]\n",
    "    \n",
    "    def predict(self, test_data):\n",
    "        if test_data.size == test_data.shape[0]:\n",
    "            return self.predict_datum(test_data)\n",
    "        return np.array([self.predict_datum(datum) for datum in test_data])"
   ]
  },
  {
   "cell_type": "code",
   "execution_count": 58,
   "metadata": {},
   "outputs": [],
   "source": [
    "X_train, X_test, y_train, y_test = train_test_split(data, target, test_size=0.2)"
   ]
  },
  {
   "cell_type": "code",
   "execution_count": 59,
   "metadata": {},
   "outputs": [],
   "source": [
    "dt = DecisionTree(loss='gini') "
   ]
  },
  {
   "cell_type": "code",
   "execution_count": 60,
   "metadata": {},
   "outputs": [],
   "source": [
    "dt.train(X_train, y_train)"
   ]
  },
  {
   "cell_type": "code",
   "execution_count": 61,
   "metadata": {},
   "outputs": [
    {
     "data": {
      "text/plain": [
       "array([1, 0, 0, 0, 1, 1, 0, 0, 2, 2, 2, 0, 2, 0, 2, 1, 0, 2, 2, 2, 0, 0,\n",
       "       2, 0, 1, 2, 0, 1, 2, 1])"
      ]
     },
     "execution_count": 61,
     "metadata": {},
     "output_type": "execute_result"
    }
   ],
   "source": [
    "dt.predict(X_test)"
   ]
  },
  {
   "cell_type": "code",
   "execution_count": 62,
   "metadata": {},
   "outputs": [],
   "source": [
    "rf = RandomForest(10,max_depth=4)"
   ]
  },
  {
   "cell_type": "code",
   "execution_count": 63,
   "metadata": {},
   "outputs": [],
   "source": [
    "rf.train(X_train,y_train)"
   ]
  },
  {
   "cell_type": "code",
   "execution_count": 64,
   "metadata": {},
   "outputs": [
    {
     "data": {
      "text/plain": [
       "array([1, 1, 0, 0, 1, 1, 0, 0, 2, 2, 2, 0, 2, 0, 2, 1, 0, 2, 2, 2, 0, 0,\n",
       "       2, 0, 1, 2, 0, 1, 2, 1])"
      ]
     },
     "execution_count": 64,
     "metadata": {},
     "output_type": "execute_result"
    }
   ],
   "source": [
    "rf.predict(X_test)"
   ]
  },
  {
   "cell_type": "code",
   "execution_count": null,
   "metadata": {},
   "outputs": [],
   "source": []
  }
 ],
 "metadata": {
  "anaconda-cloud": {},
  "kernelspec": {
   "display_name": "Python 3",
   "language": "python",
   "name": "python3"
  },
  "language_info": {
   "codemirror_mode": {
    "name": "ipython",
    "version": 3
   },
   "file_extension": ".py",
   "mimetype": "text/x-python",
   "name": "python",
   "nbconvert_exporter": "python",
   "pygments_lexer": "ipython3",
   "version": "3.6.8"
  }
 },
 "nbformat": 4,
 "nbformat_minor": 1
}
